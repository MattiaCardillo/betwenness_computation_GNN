{
 "cells": [
  {
   "cell_type": "markdown",
   "metadata": {},
   "source": [
    "## Useful functions"
   ]
  },
  {
   "cell_type": "code",
   "execution_count": 35,
   "metadata": {},
   "outputs": [],
   "source": [
    "from graph_manipulation import *\n",
    "from betwenness_computation import *\n",
    "from error_measurements import *"
   ]
  },
  {
   "cell_type": "markdown",
   "metadata": {},
   "source": [
    "## Used datasets"
   ]
  },
  {
   "cell_type": "code",
   "execution_count": 36,
   "metadata": {},
   "outputs": [],
   "source": [
    "graphs_dataset = [\n",
    "    {\n",
    "        \"filepath\": 'datasets/socfb-American75/socfb-American75.mtx',\n",
    "        \"name\": \"socfb-American75\",\n",
    "        \"approximation_rate\": 0.1\n",
    "    },\n",
    "    {\n",
    "        \"filepath\": 'datasets/socfb-American75/socfb-American75.mtx',\n",
    "        \"name\": \"socfb-American75\",\n",
    "        \"approximation_rate\": 0.3\n",
    "    },\n",
    "    #'datasets/socfb-Auburn71/socfb-Auburn71.mtx'\n",
    "]"
   ]
  },
  {
   "cell_type": "markdown",
   "metadata": {},
   "source": [
    "## Iperparameters"
   ]
  },
  {
   "cell_type": "code",
   "execution_count": 37,
   "metadata": {},
   "outputs": [],
   "source": [
    "classification_nodes = 20\n",
    "approximation_rate = 0.1"
   ]
  },
  {
   "cell_type": "markdown",
   "metadata": {},
   "source": [
    "## Graph loading"
   ]
  },
  {
   "cell_type": "code",
   "execution_count": 38,
   "metadata": {},
   "outputs": [
    {
     "name": "stdout",
     "output_type": "stream",
     "text": [
      "Graph: datasets/socfb-American75/socfb-American75.mtx loaded\n",
      "Number of nodes: 6386\n",
      "Number of edges: 217663\n",
      "Graph: datasets/socfb-American75/socfb-American75.mtx loaded\n",
      "Number of nodes: 6386\n",
      "Number of edges: 217663\n"
     ]
    }
   ],
   "source": [
    "graphs = [create_graph_from_mtx(graph_data[\"filepath\"]) for graph_data in graphs_dataset]"
   ]
  },
  {
   "cell_type": "markdown",
   "metadata": {},
   "source": [
    "### Exact betwenness calculation"
   ]
  },
  {
   "cell_type": "markdown",
   "metadata": {},
   "source": [
    "\n",
    "**Algoritmo Utilizzato**: **Algoritmo di Brandes**\n",
    "\n",
    "**Descrizione**:\n",
    "- L'algoritmo di Brandes è l'algoritmo standard per il calcolo esatto della betweenness centrality. Questo algoritmo sfrutta una combinazione di attraversamenti in ampiezza del grafo e calcoli di somme per determinare il numero di percorsi più brevi che passano attraverso ciascun nodo.\n",
    "- La complessità computazionale dell'algoritmo è \\(O(nm)\\) per grafi non pesati e \\(O(nm + n^2 \\log n)\\) per grafi pesati, dove \\(n\\) è il numero di nodi e \\(m\\) è il numero di archi nel grafo. Questo lo rende efficiente per grafi di dimensioni moderate, ma può diventare oneroso per grafi molto grandi.\n",
    "\n",
    "**Implementazione in NetworkX**:\n",
    "- NetworkX utilizza l'algoritmo di Brandes per calcolare la betweenness centrality quando si utilizza la funzione `betweenness_centrality(graph)` senza parametri aggiuntivi.\n"
   ]
  },
  {
   "cell_type": "code",
   "execution_count": 39,
   "metadata": {},
   "outputs": [
    {
     "name": "stdout",
     "output_type": "stream",
     "text": [
      "Graph 1 - Computation time: 251.8851900100708 seconds\n",
      "Graph 2 - Computation time: 251.89555478096008 seconds\n"
     ]
    }
   ],
   "source": [
    "exact_results = []\n",
    "for i, g in enumerate(graphs):\n",
    "    betweenness_exact, computation_time = calculate_betweenness_centrality(g)\n",
    "    exact_results.append((betweenness_exact, computation_time))\n",
    "    print(f\"Graph {i+1} - Computation time: {computation_time} seconds\")\n",
    "\n"
   ]
  },
  {
   "cell_type": "markdown",
   "metadata": {},
   "source": [
    "### Betweenness Centrality Approssimata\n",
    "\n",
    "**Algoritmo Utilizzato**: **Campionamento Randomizzato Basato su Algoritmo di Brandes**\n",
    "\n",
    "**Descrizione**:\n",
    "- Per approssimare la betweenness centrality, NetworkX implementa una versione modificata dell'algoritmo di Brandes che utilizza il campionamento randomizzato. Invece di calcolare i percorsi più brevi tra tutte le coppie di nodi, l'algoritmo seleziona un sottoinsieme casuale di nodi (specificato dal parametro `k`) e calcola la centralità solo per questi nodi.\n",
    "- Questo metodo riduce significativamente il tempo di calcolo, soprattutto per grafi di grandi dimensioni, a scapito di una minore precisione. La qualità dell'approssimazione dipende dal numero di nodi campionati (`k`): un numero maggiore di campioni migliora l'accuratezza dell'approssimazione.\n",
    "\n",
    "**Implementazione in NetworkX**:\n",
    "- Quando si utilizza la funzione `nx.betweenness_centrality()` con il parametro `k` specificato (ad esempio, `k=5`), NetworkX esegue un'approssimazione della betweenness centrality utilizzando il campionamento randomizzato. Il parametro `seed` può essere usato per garantire che i risultati siano riproducibili, utilizzando lo stesso set di campioni ogni volta."
   ]
  },
  {
   "cell_type": "code",
   "execution_count": 40,
   "metadata": {},
   "outputs": [
    {
     "name": "stdout",
     "output_type": "stream",
     "text": [
      "Graph 1 - Computation time: 25.352396965026855 seconds\n",
      "Graph 2 - Computation time: 75.72004389762878 seconds\n"
     ]
    }
   ],
   "source": [
    "approx_results = []\n",
    "for i, g in enumerate(graphs):\n",
    "    betweenness_approx, computation_time = calculate_betweenness_centrality_approximated(g, graphs_dataset[i][\"approximation_rate\"])\n",
    "    approx_results.append((betweenness_approx, computation_time))\n",
    "    print(f\"Graph {i+1} - Computation time: {computation_time} seconds\")"
   ]
  },
  {
   "cell_type": "markdown",
   "metadata": {},
   "source": [
    "## Results"
   ]
  },
  {
   "cell_type": "code",
   "execution_count": 41,
   "metadata": {},
   "outputs": [
    {
     "name": "stdout",
     "output_type": "stream",
     "text": [
      "\n",
      "Graph 1 - Top 20 Nodes by Betweenness Centrality\n",
      "+--------+--------------+---------------------+---------------+----------------------+\n",
      "|   Rank |   Exact Node |   Exact Betweenness |   Approx Node |   Approx Betweenness |\n",
      "+========+==============+=====================+===============+======================+\n",
      "|      1 |          224 |          0.0417423  |           224 |           0.0385494  |\n",
      "+--------+--------------+---------------------+---------------+----------------------+\n",
      "|      2 |         4046 |          0.0232396  |          4046 |           0.021724   |\n",
      "+--------+--------------+---------------------+---------------+----------------------+\n",
      "|      3 |         4485 |          0.0128879  |          4780 |           0.0122616  |\n",
      "+--------+--------------+---------------------+---------------+----------------------+\n",
      "|      4 |         2442 |          0.0109526  |          1065 |           0.0118898  |\n",
      "+--------+--------------+---------------------+---------------+----------------------+\n",
      "|      5 |         4780 |          0.0102727  |          5840 |           0.0118056  |\n",
      "+--------+--------------+---------------------+---------------+----------------------+\n",
      "|      6 |         5840 |          0.00956088 |          4485 |           0.0117414  |\n",
      "+--------+--------------+---------------------+---------------+----------------------+\n",
      "|      7 |         2637 |          0.00946117 |          2442 |           0.0115648  |\n",
      "+--------+--------------+---------------------+---------------+----------------------+\n",
      "|      8 |         1065 |          0.00894461 |             7 |           0.0105458  |\n",
      "+--------+--------------+---------------------+---------------+----------------------+\n",
      "|      9 |            7 |          0.00872367 |          2637 |           0.00951265 |\n",
      "+--------+--------------+---------------------+---------------+----------------------+\n",
      "|     10 |         2321 |          0.00808083 |          4960 |           0.0088262  |\n",
      "+--------+--------------+---------------------+---------------+----------------------+\n",
      "|     11 |         4960 |          0.00779988 |          2321 |           0.00831387 |\n",
      "+--------+--------------+---------------------+---------------+----------------------+\n",
      "|     12 |         6319 |          0.00697958 |          6319 |           0.00697081 |\n",
      "+--------+--------------+---------------------+---------------+----------------------+\n",
      "|     13 |         1802 |          0.00613362 |          2782 |           0.00694592 |\n",
      "+--------+--------------+---------------------+---------------+----------------------+\n",
      "|     14 |         2782 |          0.0058056  |           906 |           0.00624678 |\n",
      "+--------+--------------+---------------------+---------------+----------------------+\n",
      "|     15 |          906 |          0.00533542 |          1802 |           0.00592512 |\n",
      "+--------+--------------+---------------------+---------------+----------------------+\n",
      "|     16 |          725 |          0.00512233 |          6017 |           0.00543193 |\n",
      "+--------+--------------+---------------------+---------------+----------------------+\n",
      "|     17 |         3222 |          0.00506059 |           866 |           0.00494878 |\n",
      "+--------+--------------+---------------------+---------------+----------------------+\n",
      "|     18 |         6017 |          0.00472208 |          5232 |           0.00492534 |\n",
      "+--------+--------------+---------------------+---------------+----------------------+\n",
      "|     19 |         5232 |          0.00457023 |          3048 |           0.0048651  |\n",
      "+--------+--------------+---------------------+---------------+----------------------+\n",
      "|     20 |         4543 |          0.0045386  |          3222 |           0.00445603 |\n",
      "+--------+--------------+---------------------+---------------+----------------------+\n",
      "\n",
      "Graph 2 - Top 20 Nodes by Betweenness Centrality\n",
      "+--------+--------------+---------------------+---------------+----------------------+\n",
      "|   Rank |   Exact Node |   Exact Betweenness |   Approx Node |   Approx Betweenness |\n",
      "+========+==============+=====================+===============+======================+\n",
      "|      1 |          224 |          0.0417423  |           224 |           0.0434683  |\n",
      "+--------+--------------+---------------------+---------------+----------------------+\n",
      "|      2 |         4046 |          0.0232396  |          4046 |           0.0216585  |\n",
      "+--------+--------------+---------------------+---------------+----------------------+\n",
      "|      3 |         4485 |          0.0128879  |          4485 |           0.0114446  |\n",
      "+--------+--------------+---------------------+---------------+----------------------+\n",
      "|      4 |         2442 |          0.0109526  |          2442 |           0.0112795  |\n",
      "+--------+--------------+---------------------+---------------+----------------------+\n",
      "|      5 |         4780 |          0.0102727  |          5840 |           0.0101342  |\n",
      "+--------+--------------+---------------------+---------------+----------------------+\n",
      "|      6 |         5840 |          0.00956088 |          4780 |           0.00999931 |\n",
      "+--------+--------------+---------------------+---------------+----------------------+\n",
      "|      7 |         2637 |          0.00946117 |          1065 |           0.00971755 |\n",
      "+--------+--------------+---------------------+---------------+----------------------+\n",
      "|      8 |         1065 |          0.00894461 |          2637 |           0.00931684 |\n",
      "+--------+--------------+---------------------+---------------+----------------------+\n",
      "|      9 |            7 |          0.00872367 |             7 |           0.00900361 |\n",
      "+--------+--------------+---------------------+---------------+----------------------+\n",
      "|     10 |         2321 |          0.00808083 |          2321 |           0.00847204 |\n",
      "+--------+--------------+---------------------+---------------+----------------------+\n",
      "|     11 |         4960 |          0.00779988 |          4960 |           0.00837336 |\n",
      "+--------+--------------+---------------------+---------------+----------------------+\n",
      "|     12 |         6319 |          0.00697958 |          6319 |           0.00662866 |\n",
      "+--------+--------------+---------------------+---------------+----------------------+\n",
      "|     13 |         1802 |          0.00613362 |          2782 |           0.00652668 |\n",
      "+--------+--------------+---------------------+---------------+----------------------+\n",
      "|     14 |         2782 |          0.0058056  |          6017 |           0.00622852 |\n",
      "+--------+--------------+---------------------+---------------+----------------------+\n",
      "|     15 |          906 |          0.00533542 |          1802 |           0.00599921 |\n",
      "+--------+--------------+---------------------+---------------+----------------------+\n",
      "|     16 |          725 |          0.00512233 |           725 |           0.00580909 |\n",
      "+--------+--------------+---------------------+---------------+----------------------+\n",
      "|     17 |         3222 |          0.00506059 |          3222 |           0.00576496 |\n",
      "+--------+--------------+---------------------+---------------+----------------------+\n",
      "|     18 |         6017 |          0.00472208 |           906 |           0.00545304 |\n",
      "+--------+--------------+---------------------+---------------+----------------------+\n",
      "|     19 |         5232 |          0.00457023 |          4543 |           0.0049731  |\n",
      "+--------+--------------+---------------------+---------------+----------------------+\n",
      "|     20 |         4543 |          0.0045386  |          5232 |           0.00480003 |\n",
      "+--------+--------------+---------------------+---------------+----------------------+\n"
     ]
    }
   ],
   "source": [
    "from tabulate import tabulate\n",
    "\n",
    "# Configurable parameter for top N nodes\n",
    "N = 20  # Change this value as needed\n",
    "\n",
    "# Prepare and print a table for each graph showing the top N nodes\n",
    "for i, (exact, approx) in enumerate(zip(exact_results, approx_results)):\n",
    "    graph_name = f\"Graph {i+1}\"\n",
    "    top_n_exact = get_top_n_betweenness(exact[0], N)\n",
    "    top_n_approx = get_top_n_betweenness(approx[0], N)\n",
    "    \n",
    "    top_n_data = []\n",
    "    for rank, ((node_exact, betw_exact), (node_approx, betw_approx)) in enumerate(zip(top_n_exact, top_n_approx), 1):\n",
    "        top_n_data.append([rank, node_exact, betw_exact, node_approx, betw_approx])\n",
    "    \n",
    "    # Define table headers for top N nodes\n",
    "    top_n_headers = [\"Rank\", \"Exact Node\", \"Exact Betweenness\", \"Approx Node\", \"Approx Betweenness\"]\n",
    "    \n",
    "    # Print the top N nodes table for the current graph\n",
    "    print(f\"\\n{graph_name} - Top {N} Nodes by Betweenness Centrality\")\n",
    "    print(tabulate(top_n_data, headers=top_n_headers, tablefmt=\"grid\"))"
   ]
  },
  {
   "cell_type": "code",
   "execution_count": 42,
   "metadata": {},
   "outputs": [
    {
     "name": "stdout",
     "output_type": "stream",
     "text": [
      "+---------+------------------+-------------------+--------------+-------------+--------------------------------+\n",
      "| Graph   |   Exact Time (s) |   Approx Time (s) | Speedup(%)   | MSE         |   Nodes in Exact Not in Approx |\n",
      "+=========+==================+===================+==============+=============+================================+\n",
      "| Graph 1 |          251.885 |           25.3524 | 89.93%       | 0.00279337% |                              0 |\n",
      "+---------+------------------+-------------------+--------------+-------------+--------------------------------+\n",
      "| Graph 2 |          251.896 |           75.72   | 69.94%       | 0.00279337% |                              0 |\n",
      "+---------+------------------+-------------------+--------------+-------------+--------------------------------+\n"
     ]
    }
   ],
   "source": [
    "## Results\n",
    "\n",
    "# Calculate mean squared error for each graph\n",
    "mse_results = []\n",
    "for exact, approx in zip(exact_results, approx_results):\n",
    "    exact_values = list(exact[0].values())\n",
    "    approx_values = list(approx[0].values())\n",
    "    \n",
    "    # Calculate mean squared error between all values\n",
    "    mse = mean_squared_error(exact_values, approx_values)\n",
    "    \n",
    "    # Calculate the percentage error\n",
    "    mean_exact = sum(exact_values) / len(exact_values)\n",
    "    mse_percentage = (mse / mean_exact) * 100\n",
    "    \n",
    "    mse_results.append(mse_percentage)\n",
    "\n",
    "\n",
    "nodes_in_exact_not_in_approx = []\n",
    "# Calculate Nodes in Exact Not in Approx\n",
    "exact_nodes = {node for node, _ in top_n_exact}\n",
    "approx_nodes = {node for node, _ in top_n_approx}\n",
    "nodes_not_in_approx = len(exact_nodes - approx_nodes)\n",
    "nodes_in_exact_not_in_approx.append(f\"{nodes_not_in_approx}/{N}\")\n",
    "\n",
    "# Prepare data for the table\n",
    "data = []\n",
    "for i, (exact, approx, mse) in enumerate(zip(exact_results, approx_results, mse_results)):\n",
    "    graph_name = f\"Graph {i+1}\"\n",
    "    exact_time = float(exact[1])\n",
    "    approx_time = float(approx[1])\n",
    "    time_diff_percentage = f\"{(((exact_time - approx_time) / exact_time) * 100):.2f}%\"  # Corrected formatting\n",
    "    mse_value = f\"{mse_percentage:.8f}%\"  # Format MSE percentage\n",
    "\n",
    "    data.append([graph_name, exact_time, approx_time, time_diff_percentage, mse_value, nodes_not_in_approx])\n",
    "\n",
    "# Define table headers\n",
    "headers = [\"Graph\", \"Exact Time (s)\", \"Approx Time (s)\", \"Speedup(%)\", \"MSE\", \"Nodes in Exact Not in Approx\"]\n",
    "\n",
    "# Print the table\n",
    "print(tabulate(data, headers=headers, tablefmt=\"grid\"))"
   ]
  },
  {
   "attachments": {
    "image-2.png": {
     "image/png": "[encoded data removed]"
    },
    "image.png": {
     "image/png": "[encoded data removed]"
    }
   },
   "cell_type": "markdown",
   "metadata": {},
   "source": [
    "### Risultati con K = 0.3\n",
    "\n",
    "![image.png](attachment:image.png)\n",
    "\n",
    "### Risultati con K = 0.1\n",
    "\n",
    "![image-2.png](attachment:image-2.png)"
   ]
  }
 ],
 "metadata": {
  "kernelspec": {
   "display_name": "Python 3",
   "language": "python",
   "name": "python3"
  },
  "language_info": {
   "codemirror_mode": {
    "name": "ipython",
    "version": 3
   },
   "file_extension": ".py",
   "mimetype": "text/x-python",
   "name": "python",
   "nbconvert_exporter": "python",
   "pygments_lexer": "ipython3",
   "version": "3.12.4"
  }
 },
 "nbformat": 4,
 "nbformat_minor": 2
}
