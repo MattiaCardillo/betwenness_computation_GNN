{
 "cells": [
  {
   "cell_type": "markdown",
   "metadata": {},
   "source": [
    "## Useful functions"
   ]
  },
  {
   "cell_type": "code",
   "execution_count": 9,
   "metadata": {},
   "outputs": [],
   "source": [
    "from graph_manipulation import *\n",
    "from betwenness_computation import *\n",
    "from error_measurements import *"
   ]
  },
  {
   "cell_type": "markdown",
   "metadata": {},
   "source": [
    "## Used datasets"
   ]
  },
  {
   "cell_type": "code",
   "execution_count": 2,
   "metadata": {},
   "outputs": [],
   "source": [
    "file_paths = [\n",
    "    'datasets/socfb-American75/socfb-American75.mtx',\n",
    "    'datasets/socfb-Auburn71/socfb-Auburn71.mtx'\n",
    "]"
   ]
  },
  {
   "cell_type": "markdown",
   "metadata": {},
   "source": [
    "## Iperparameters"
   ]
  },
  {
   "cell_type": "code",
   "execution_count": 3,
   "metadata": {},
   "outputs": [],
   "source": [
    "classification_nodes = 20\n",
    "approximation_rate = 0.3"
   ]
  },
  {
   "cell_type": "markdown",
   "metadata": {},
   "source": [
    "## Graph loading"
   ]
  },
  {
   "cell_type": "code",
   "execution_count": 4,
   "metadata": {},
   "outputs": [
    {
     "name": "stdout",
     "output_type": "stream",
     "text": [
      "Graph: datasets/socfb-American75/socfb-American75.mtx loaded\n",
      "Number of nodes: 6386\n",
      "Number of edges: 217663\n",
      "Graph: datasets/socfb-Auburn71/socfb-Auburn71.mtx loaded\n",
      "Number of nodes: 18448\n",
      "Number of edges: 973919\n"
     ]
    }
   ],
   "source": [
    "graphs = [create_graph_from_mtx(file_path) for file_path in file_paths]"
   ]
  },
  {
   "cell_type": "markdown",
   "metadata": {},
   "source": [
    "### Exact betwenness calculation"
   ]
  },
  {
   "cell_type": "markdown",
   "metadata": {},
   "source": [
    "\n",
    "**Algoritmo Utilizzato**: **Algoritmo di Brandes**\n",
    "\n",
    "**Descrizione**:\n",
    "- L'algoritmo di Brandes è l'algoritmo standard per il calcolo esatto della betweenness centrality. Questo algoritmo sfrutta una combinazione di attraversamenti in ampiezza del grafo e calcoli di somme per determinare il numero di percorsi più brevi che passano attraverso ciascun nodo.\n",
    "- La complessità computazionale dell'algoritmo è \\(O(nm)\\) per grafi non pesati e \\(O(nm + n^2 \\log n)\\) per grafi pesati, dove \\(n\\) è il numero di nodi e \\(m\\) è il numero di archi nel grafo. Questo lo rende efficiente per grafi di dimensioni moderate, ma può diventare oneroso per grafi molto grandi.\n",
    "\n",
    "**Implementazione in NetworkX**:\n",
    "- NetworkX utilizza l'algoritmo di Brandes per calcolare la betweenness centrality quando si utilizza la funzione `betweenness_centrality(graph)` senza parametri aggiuntivi.\n"
   ]
  },
  {
   "cell_type": "code",
   "execution_count": 5,
   "metadata": {},
   "outputs": [
    {
     "name": "stdout",
     "output_type": "stream",
     "text": [
      "Graph 1 - Computation time: 271.9077022075653 seconds\n",
      "Graph 2 - Computation time: 3621.18812417984 seconds\n"
     ]
    }
   ],
   "source": [
    "exact_results = []\n",
    "for i, g in enumerate(graphs):\n",
    "    betweenness_exact, computation_time = calculate_betweenness_centrality(g)\n",
    "    exact_results.append((betweenness_exact, computation_time))\n",
    "    print(f\"Graph {i+1} - Computation time: {computation_time} seconds\")\n",
    "\n"
   ]
  },
  {
   "cell_type": "markdown",
   "metadata": {},
   "source": [
    "### Betweenness Centrality Approssimata\n",
    "\n",
    "**Algoritmo Utilizzato**: **Campionamento Randomizzato Basato su Algoritmo di Brandes**\n",
    "\n",
    "**Descrizione**:\n",
    "- Per approssimare la betweenness centrality, NetworkX implementa una versione modificata dell'algoritmo di Brandes che utilizza il campionamento randomizzato. Invece di calcolare i percorsi più brevi tra tutte le coppie di nodi, l'algoritmo seleziona un sottoinsieme casuale di nodi (specificato dal parametro `k`) e calcola la centralità solo per questi nodi.\n",
    "- Questo metodo riduce significativamente il tempo di calcolo, soprattutto per grafi di grandi dimensioni, a scapito di una minore precisione. La qualità dell'approssimazione dipende dal numero di nodi campionati (`k`): un numero maggiore di campioni migliora l'accuratezza dell'approssimazione.\n",
    "\n",
    "**Implementazione in NetworkX**:\n",
    "- Quando si utilizza la funzione `nx.betweenness_centrality()` con il parametro `k` specificato (ad esempio, `k=5`), NetworkX esegue un'approssimazione della betweenness centrality utilizzando il campionamento randomizzato. Il parametro `seed` può essere usato per garantire che i risultati siano riproducibili, utilizzando lo stesso set di campioni ogni volta."
   ]
  },
  {
   "cell_type": "code",
   "execution_count": 27,
   "metadata": {},
   "outputs": [
    {
     "name": "stdout",
     "output_type": "stream",
     "text": [
      "6386\n",
      "Graph 1 - Computation time: 81.49726724624634 seconds\n",
      "18448\n",
      "Graph 2 - Computation time: 1114.1465520858765 seconds\n"
     ]
    }
   ],
   "source": [
    "approx_results = []\n",
    "for i, g in enumerate(graphs):\n",
    "    betweenness_approx, computation_time = calculate_betweenness_centrality_approximated(g, approximation_rate)\n",
    "    approx_results.append((betweenness_exact, computation_time))\n",
    "    print(f\"Graph {i+1} - Computation time: {computation_time} seconds\")"
   ]
  },
  {
   "cell_type": "markdown",
   "metadata": {},
   "source": [
    "## Results"
   ]
  },
  {
   "cell_type": "code",
   "execution_count": 47,
   "metadata": {},
   "outputs": [
    {
     "name": "stdout",
     "output_type": "stream",
     "text": [
      "\n",
      "Graph 1 - Top 20 Nodes by Betweenness Centrality\n",
      "+--------+--------------+---------------------+---------------+----------------------+\n",
      "|   Rank |   Exact Node |   Exact Betweenness |   Approx Node |   Approx Betweenness |\n",
      "+========+==============+=====================+===============+======================+\n",
      "|      1 |          224 |          0.0417423  |          5472 |           0.107291   |\n",
      "+--------+--------------+---------------------+---------------+----------------------+\n",
      "|      2 |         4046 |          0.0232396  |         10626 |           0.0579346  |\n",
      "+--------+--------------+---------------------+---------------+----------------------+\n",
      "|      3 |         4485 |          0.0128879  |         12499 |           0.0390084  |\n",
      "+--------+--------------+---------------------+---------------+----------------------+\n",
      "|      4 |         2442 |          0.0109526  |         14497 |           0.0346414  |\n",
      "+--------+--------------+---------------------+---------------+----------------------+\n",
      "|      5 |         4780 |          0.0102727  |          7194 |           0.0287845  |\n",
      "+--------+--------------+---------------------+---------------+----------------------+\n",
      "|      6 |         5840 |          0.00956088 |          2455 |           0.0070364  |\n",
      "+--------+--------------+---------------------+---------------+----------------------+\n",
      "|      7 |         2637 |          0.00946117 |         15171 |           0.00515085 |\n",
      "+--------+--------------+---------------------+---------------+----------------------+\n",
      "|      8 |         1065 |          0.00894461 |          1827 |           0.00493124 |\n",
      "+--------+--------------+---------------------+---------------+----------------------+\n",
      "|      9 |            7 |          0.00872367 |         18337 |           0.00447751 |\n",
      "+--------+--------------+---------------------+---------------+----------------------+\n",
      "|     10 |         2321 |          0.00808083 |          6395 |           0.00422532 |\n",
      "+--------+--------------+---------------------+---------------+----------------------+\n",
      "|     11 |         4960 |          0.00779988 |         14237 |           0.00378451 |\n",
      "+--------+--------------+---------------------+---------------+----------------------+\n",
      "|     12 |         6319 |          0.00697958 |          7704 |           0.00367327 |\n",
      "+--------+--------------+---------------------+---------------+----------------------+\n",
      "|     13 |         1802 |          0.00613362 |          3212 |           0.00337714 |\n",
      "+--------+--------------+---------------------+---------------+----------------------+\n",
      "|     14 |         2782 |          0.0058056  |         10077 |           0.00336447 |\n",
      "+--------+--------------+---------------------+---------------+----------------------+\n",
      "|     15 |          906 |          0.00533542 |         14711 |           0.00296906 |\n",
      "+--------+--------------+---------------------+---------------+----------------------+\n",
      "|     16 |          725 |          0.00512233 |          2191 |           0.00294063 |\n",
      "+--------+--------------+---------------------+---------------+----------------------+\n",
      "|     17 |         3222 |          0.00506059 |         12652 |           0.00226774 |\n",
      "+--------+--------------+---------------------+---------------+----------------------+\n",
      "|     18 |         6017 |          0.00472208 |         18381 |           0.00196488 |\n",
      "+--------+--------------+---------------------+---------------+----------------------+\n",
      "|     19 |         5232 |          0.00457023 |         13188 |           0.00186207 |\n",
      "+--------+--------------+---------------------+---------------+----------------------+\n",
      "|     20 |         4543 |          0.0045386  |          4025 |           0.00185925 |\n",
      "+--------+--------------+---------------------+---------------+----------------------+\n",
      "\n",
      "Graph 2 - Top 20 Nodes by Betweenness Centrality\n",
      "+--------+--------------+---------------------+---------------+----------------------+\n",
      "|   Rank |   Exact Node |   Exact Betweenness |   Approx Node |   Approx Betweenness |\n",
      "+========+==============+=====================+===============+======================+\n",
      "|      1 |         5472 |          0.107291   |          5472 |           0.107291   |\n",
      "+--------+--------------+---------------------+---------------+----------------------+\n",
      "|      2 |        10626 |          0.0579346  |         10626 |           0.0579346  |\n",
      "+--------+--------------+---------------------+---------------+----------------------+\n",
      "|      3 |        12499 |          0.0390084  |         12499 |           0.0390084  |\n",
      "+--------+--------------+---------------------+---------------+----------------------+\n",
      "|      4 |        14497 |          0.0346414  |         14497 |           0.0346414  |\n",
      "+--------+--------------+---------------------+---------------+----------------------+\n",
      "|      5 |         7194 |          0.0287845  |          7194 |           0.0287845  |\n",
      "+--------+--------------+---------------------+---------------+----------------------+\n",
      "|      6 |         2455 |          0.0070364  |          2455 |           0.0070364  |\n",
      "+--------+--------------+---------------------+---------------+----------------------+\n",
      "|      7 |        15171 |          0.00515085 |         15171 |           0.00515085 |\n",
      "+--------+--------------+---------------------+---------------+----------------------+\n",
      "|      8 |         1827 |          0.00493124 |          1827 |           0.00493124 |\n",
      "+--------+--------------+---------------------+---------------+----------------------+\n",
      "|      9 |        18337 |          0.00447751 |         18337 |           0.00447751 |\n",
      "+--------+--------------+---------------------+---------------+----------------------+\n",
      "|     10 |         6395 |          0.00422532 |          6395 |           0.00422532 |\n",
      "+--------+--------------+---------------------+---------------+----------------------+\n",
      "|     11 |        14237 |          0.00378451 |         14237 |           0.00378451 |\n",
      "+--------+--------------+---------------------+---------------+----------------------+\n",
      "|     12 |         7704 |          0.00367327 |          7704 |           0.00367327 |\n",
      "+--------+--------------+---------------------+---------------+----------------------+\n",
      "|     13 |         3212 |          0.00337714 |          3212 |           0.00337714 |\n",
      "+--------+--------------+---------------------+---------------+----------------------+\n",
      "|     14 |        10077 |          0.00336447 |         10077 |           0.00336447 |\n",
      "+--------+--------------+---------------------+---------------+----------------------+\n",
      "|     15 |        14711 |          0.00296906 |         14711 |           0.00296906 |\n",
      "+--------+--------------+---------------------+---------------+----------------------+\n",
      "|     16 |         2191 |          0.00294063 |          2191 |           0.00294063 |\n",
      "+--------+--------------+---------------------+---------------+----------------------+\n",
      "|     17 |        12652 |          0.00226774 |         12652 |           0.00226774 |\n",
      "+--------+--------------+---------------------+---------------+----------------------+\n",
      "|     18 |        18381 |          0.00196488 |         18381 |           0.00196488 |\n",
      "+--------+--------------+---------------------+---------------+----------------------+\n",
      "|     19 |        13188 |          0.00186207 |         13188 |           0.00186207 |\n",
      "+--------+--------------+---------------------+---------------+----------------------+\n",
      "|     20 |         4025 |          0.00185925 |          4025 |           0.00185925 |\n",
      "+--------+--------------+---------------------+---------------+----------------------+\n"
     ]
    }
   ],
   "source": [
    "from tabulate import tabulate\n",
    "\n",
    "# Function to get top N nodes by betweenness centrality\n",
    "def get_top_n_betweenness(betweenness_dict, n):\n",
    "    return sorted(betweenness_dict.items(), key=lambda item: item[1], reverse=True)[:n]\n",
    "\n",
    "# Configurable parameter for top N nodes\n",
    "N = 20  # Change this value as needed\n",
    "\n",
    "# Prepare and print a table for each graph showing the top N nodes\n",
    "for i, (exact, approx) in enumerate(zip(exact_results, approx_results)):\n",
    "    graph_name = f\"Graph {i+1}\"\n",
    "    top_n_exact = get_top_n_betweenness(exact[0], N)\n",
    "    top_n_approx = get_top_n_betweenness(approx[0], N)\n",
    "    \n",
    "    top_n_data = []\n",
    "    for rank, ((node_exact, betw_exact), (node_approx, betw_approx)) in enumerate(zip(top_n_exact, top_n_approx), 1):\n",
    "        top_n_data.append([rank, node_exact, betw_exact, node_approx, betw_approx])\n",
    "    \n",
    "    # Define table headers for top N nodes\n",
    "    top_n_headers = [\"Rank\", \"Exact Node\", \"Exact Betweenness\", \"Approx Node\", \"Approx Betweenness\"]\n",
    "    \n",
    "    # Print the top N nodes table for the current graph\n",
    "    print(f\"\\n{graph_name} - Top {N} Nodes by Betweenness Centrality\")\n",
    "    print(tabulate(top_n_data, headers=top_n_headers, tablefmt=\"grid\"))"
   ]
  },
  {
   "cell_type": "code",
   "execution_count": 44,
   "metadata": {},
   "outputs": [
    {
     "name": "stdout",
     "output_type": "stream",
     "text": [
      "+---------+------------------+-------------------+--------------+-------------+\n",
      "| Graph   |   Exact Time (s) |   Approx Time (s) | Speedup(%)   |         MSE |\n",
      "+=========+==================+===================+==============+=============+\n",
      "| Graph 1 |          271.908 |           81.4973 | 70.03%       | 6.71647e+07 |\n",
      "+---------+------------------+-------------------+--------------+-------------+\n",
      "| Graph 2 |         3621.19  |         1114.15   | 69.23%       | 0           |\n",
      "+---------+------------------+-------------------+--------------+-------------+\n"
     ]
    }
   ],
   "source": [
    "## Results\n",
    "\n",
    "\n",
    "# Function to calculate mean squared error manually\n",
    "def mean_squared_error_manual(y_true, y_pred):\n",
    "    return sum((yt - yp) ** 2 for yt, yp in zip(y_true, y_pred)) / len(y_true)\n",
    "\n",
    "# Calculate mean squared error for each graph\n",
    "mse_results = [\n",
    "    mean_squared_error_manual(exact[0], approx[0])\n",
    "    for exact, approx in zip(exact_results, approx_results)\n",
    "]\n",
    "\n",
    "# Prepare data for the table\n",
    "data = []\n",
    "\n",
    "for i, (exact, approx, mse) in enumerate(zip(exact_results, approx_results, mse_results)):\n",
    "    graph_name = f\"Graph {i+1}\"\n",
    "    exact_time = float(exact[1])\n",
    "    approx_time = float(approx[1])\n",
    "    time_diff_percentage = f\"{(((exact_time - approx_time) / exact_time) * 100):.2f}%\"  # Corrected formatting\n",
    "    mse_value = mse\n",
    "\n",
    "    data.append([graph_name, exact_time, approx_time, time_diff_percentage, mse_value])\n",
    "\n",
    "# Define table headers\n",
    "headers = [\"Graph\", \"Exact Time (s)\", \"Approx Time (s)\", \"Speedup(%)\", \"MSE\"]\n",
    "\n",
    "# Print the table\n",
    "print(tabulate(data, headers=headers, tablefmt=\"grid\"))"
   ]
  }
 ],
 "metadata": {
  "kernelspec": {
   "display_name": "Python 3",
   "language": "python",
   "name": "python3"
  },
  "language_info": {
   "codemirror_mode": {
    "name": "ipython",
    "version": 3
   },
   "file_extension": ".py",
   "mimetype": "text/x-python",
   "name": "python",
   "nbconvert_exporter": "python",
   "pygments_lexer": "ipython3",
   "version": "3.12.4"
  }
 },
 "nbformat": 4,
 "nbformat_minor": 2
}
